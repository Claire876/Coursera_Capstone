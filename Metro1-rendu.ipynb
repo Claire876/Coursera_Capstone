{
 "cells": [
  {
   "cell_type": "markdown",
   "metadata": {},
   "source": [
    "## Metro line 1 clustering\n",
    "Objective : What are the best locations on metro ligne 1 in Paris for someone who works in La Défense business district and wants restaurants and cinemas close to home ? \n",
    "We will segment the metro stations of the line 1 with 3 variables: (a) transport time, (b) and (c) numbers of restaurants and  cinemas around the studied station.\n",
    "N.B. In this project, we will use the Foursquare API."
   ]
  },
  {
   "cell_type": "code",
   "execution_count": 1,
   "metadata": {},
   "outputs": [
    {
     "name": "stdout",
     "output_type": "stream",
     "text": [
      "Collecting package metadata (current_repodata.json): ...working... done\n",
      "Solving environment: ...working... done\n",
      "\n",
      "# All requested packages already installed.\n",
      "\n",
      "ok\n"
     ]
    }
   ],
   "source": [
    "import pandas as pd\n",
    "import numpy as np\n",
    "import requests\n",
    "!conda install -c conda-forge folium=0.5.0 --yes \n",
    "print(\"ok\")"
   ]
  },
  {
   "cell_type": "code",
   "execution_count": 2,
   "metadata": {},
   "outputs": [],
   "source": [
    "import folium\n",
    "from geopy.geocoders import Nominatim"
   ]
  },
  {
   "cell_type": "code",
   "execution_count": 3,
   "metadata": {},
   "outputs": [
    {
     "name": "stdout",
     "output_type": "stream",
     "text": [
      "my credentials ok\n"
     ]
    }
   ],
   "source": [
    "CLIENT_ID = '' # my Foursquare ID\n",
    "CLIENT_SECRET = '' # my Foursquare Secret\n",
    "VERSION = '20180605' # Foursquare API version\n",
    "print('my credentials ok')"
   ]
  },
  {
   "cell_type": "markdown",
   "metadata": {},
   "source": [
    "### 1. Data\n",
    "We download the data related to the metro stations on the ratp website:\n",
    "https://dataratp2.opendatasoft.com/explore/dataset/positions-geographiques-des-stations-du-reseau-ratp/export/?disjunctive.stop_name&location=9,48.86463,2.39738\n",
    "(Licence ODbL Version Française)"
   ]
  },
  {
   "cell_type": "code",
   "execution_count": 4,
   "metadata": {},
   "outputs": [
    {
     "data": {
      "text/html": [
       "<div>\n",
       "<style scoped>\n",
       "    .dataframe tbody tr th:only-of-type {\n",
       "        vertical-align: middle;\n",
       "    }\n",
       "\n",
       "    .dataframe tbody tr th {\n",
       "        vertical-align: top;\n",
       "    }\n",
       "\n",
       "    .dataframe thead th {\n",
       "        text-align: right;\n",
       "    }\n",
       "</style>\n",
       "<table border=\"1\" class=\"dataframe\">\n",
       "  <thead>\n",
       "    <tr style=\"text-align: right;\">\n",
       "      <th></th>\n",
       "      <th>Geo Point</th>\n",
       "      <th>Geo Shape</th>\n",
       "      <th>OBJECTID</th>\n",
       "      <th>id_ref_zdl</th>\n",
       "      <th>gares_id</th>\n",
       "      <th>nom_gare</th>\n",
       "      <th>nomlong</th>\n",
       "      <th>nom_iv</th>\n",
       "      <th>num_mod</th>\n",
       "      <th>mode_</th>\n",
       "      <th>...</th>\n",
       "      <th>reseau</th>\n",
       "      <th>res_com</th>\n",
       "      <th>cod_resf</th>\n",
       "      <th>res_stif</th>\n",
       "      <th>exploitant</th>\n",
       "      <th>num_psr</th>\n",
       "      <th>idf</th>\n",
       "      <th>principal</th>\n",
       "      <th>x</th>\n",
       "      <th>y</th>\n",
       "    </tr>\n",
       "  </thead>\n",
       "  <tbody>\n",
       "    <tr>\n",
       "      <th>0</th>\n",
       "      <td>48.8794817719,2.38911580738</td>\n",
       "      <td>{\"type\": \"Point\", \"coordinates\": [2.3891158073...</td>\n",
       "      <td>3</td>\n",
       "      <td>42369</td>\n",
       "      <td>93</td>\n",
       "      <td>Botzaris</td>\n",
       "      <td>BOTZARIS</td>\n",
       "      <td>Botzaris</td>\n",
       "      <td>2362</td>\n",
       "      <td>Metro</td>\n",
       "      <td>...</td>\n",
       "      <td>METRO</td>\n",
       "      <td>M7bis</td>\n",
       "      <td>3.0</td>\n",
       "      <td>110.0</td>\n",
       "      <td>RATP</td>\n",
       "      <td>0</td>\n",
       "      <td>1</td>\n",
       "      <td>0</td>\n",
       "      <td>655197.2716</td>\n",
       "      <td>6.864558e+06</td>\n",
       "    </tr>\n",
       "    <tr>\n",
       "      <th>1</th>\n",
       "      <td>48.8607869635,2.32099819195</td>\n",
       "      <td>{\"type\": \"Point\", \"coordinates\": [2.3209981919...</td>\n",
       "      <td>27</td>\n",
       "      <td>45704</td>\n",
       "      <td>30</td>\n",
       "      <td>Assemblée Nationale</td>\n",
       "      <td>ASSEMBLEE NATIONALE</td>\n",
       "      <td>Assemblée Nationale</td>\n",
       "      <td>2312</td>\n",
       "      <td>Metro</td>\n",
       "      <td>...</td>\n",
       "      <td>METRO</td>\n",
       "      <td>M12</td>\n",
       "      <td>3.0</td>\n",
       "      <td>110.0</td>\n",
       "      <td>RATP</td>\n",
       "      <td>0</td>\n",
       "      <td>1</td>\n",
       "      <td>0</td>\n",
       "      <td>650183.7135</td>\n",
       "      <td>6.862520e+06</td>\n",
       "    </tr>\n",
       "  </tbody>\n",
       "</table>\n",
       "<p>2 rows × 40 columns</p>\n",
       "</div>"
      ],
      "text/plain": [
       "                     Geo Point  \\\n",
       "0  48.8794817719,2.38911580738   \n",
       "1  48.8607869635,2.32099819195   \n",
       "\n",
       "                                           Geo Shape  OBJECTID  id_ref_zdl  \\\n",
       "0  {\"type\": \"Point\", \"coordinates\": [2.3891158073...         3       42369   \n",
       "1  {\"type\": \"Point\", \"coordinates\": [2.3209981919...        27       45704   \n",
       "\n",
       "   gares_id             nom_gare              nomlong               nom_iv  \\\n",
       "0        93             Botzaris             BOTZARIS             Botzaris   \n",
       "1        30  Assemblée Nationale  ASSEMBLEE NATIONALE  Assemblée Nationale   \n",
       "\n",
       "   num_mod  mode_  ...  reseau  res_com  cod_resf  res_stif  exploitant  \\\n",
       "0     2362  Metro  ...   METRO    M7bis       3.0     110.0        RATP   \n",
       "1     2312  Metro  ...   METRO      M12       3.0     110.0        RATP   \n",
       "\n",
       "   num_psr  idf  principal            x             y  \n",
       "0        0    1          0  655197.2716  6.864558e+06  \n",
       "1        0    1          0  650183.7135  6.862520e+06  \n",
       "\n",
       "[2 rows x 40 columns]"
      ]
     },
     "execution_count": 4,
     "metadata": {},
     "output_type": "execute_result"
    }
   ],
   "source": [
    "# We import data on stations subway in Paris.\n",
    "data=pd.read_csv(\"metro_idf.csv\", sep=\";\")\n",
    "data.head(2)"
   ]
  },
  {
   "cell_type": "code",
   "execution_count": 5,
   "metadata": {},
   "outputs": [],
   "source": [
    "# We select the columns we need: all the stations located in the line 1 and their geographical coordinates.\n",
    "metro=data[[\"Geo Point\",\"nomlong\",\"ligne\"]]\n",
    "ligne1=metro[metro[\"ligne\"]==\"1\"]"
   ]
  },
  {
   "cell_type": "code",
   "execution_count": 6,
   "metadata": {},
   "outputs": [
    {
     "data": {
      "text/html": [
       "<div>\n",
       "<style scoped>\n",
       "    .dataframe tbody tr th:only-of-type {\n",
       "        vertical-align: middle;\n",
       "    }\n",
       "\n",
       "    .dataframe tbody tr th {\n",
       "        vertical-align: top;\n",
       "    }\n",
       "\n",
       "    .dataframe thead th {\n",
       "        text-align: right;\n",
       "    }\n",
       "</style>\n",
       "<table border=\"1\" class=\"dataframe\">\n",
       "  <thead>\n",
       "    <tr style=\"text-align: right;\">\n",
       "      <th></th>\n",
       "      <th>Geo Point</th>\n",
       "      <th>nomlong</th>\n",
       "      <th>ligne</th>\n",
       "    </tr>\n",
       "  </thead>\n",
       "  <tbody>\n",
       "    <tr>\n",
       "      <th>3</th>\n",
       "      <td>48.8524794228,2.36932058493</td>\n",
       "      <td>BASTILLE</td>\n",
       "      <td>1</td>\n",
       "    </tr>\n",
       "    <tr>\n",
       "      <th>12</th>\n",
       "      <td>48.8751498197,2.29590490608</td>\n",
       "      <td>CHARLES DE GAULLE ETOILE</td>\n",
       "      <td>1</td>\n",
       "    </tr>\n",
       "    <tr>\n",
       "      <th>17</th>\n",
       "      <td>48.8698082202,2.30747079345</td>\n",
       "      <td>FRANKLIN-D.ROOSEVELT</td>\n",
       "      <td>1</td>\n",
       "    </tr>\n",
       "    <tr>\n",
       "      <th>20</th>\n",
       "      <td>48.8574779825,2.35157756299</td>\n",
       "      <td>HOTEL DE VILLE</td>\n",
       "      <td>1</td>\n",
       "    </tr>\n",
       "    <tr>\n",
       "      <th>21</th>\n",
       "      <td>48.8886312178,2.24793243532</td>\n",
       "      <td>ESPLANADE DE LA DEFENSE</td>\n",
       "      <td>1</td>\n",
       "    </tr>\n",
       "  </tbody>\n",
       "</table>\n",
       "</div>"
      ],
      "text/plain": [
       "                      Geo Point                   nomlong ligne\n",
       "3   48.8524794228,2.36932058493                  BASTILLE     1\n",
       "12  48.8751498197,2.29590490608  CHARLES DE GAULLE ETOILE     1\n",
       "17  48.8698082202,2.30747079345      FRANKLIN-D.ROOSEVELT     1\n",
       "20  48.8574779825,2.35157756299            HOTEL DE VILLE     1\n",
       "21  48.8886312178,2.24793243532   ESPLANADE DE LA DEFENSE     1"
      ]
     },
     "execution_count": 6,
     "metadata": {},
     "output_type": "execute_result"
    }
   ],
   "source": [
    "ligne1.head()"
   ]
  },
  {
   "cell_type": "code",
   "execution_count": 7,
   "metadata": {},
   "outputs": [
    {
     "name": "stdout",
     "output_type": "stream",
     "text": [
      "There are 25 stations on ligne 1.\n"
     ]
    }
   ],
   "source": [
    "print(\"There are {} stations on ligne 1.\".format(len(ligne1)))"
   ]
  },
  {
   "cell_type": "code",
   "execution_count": 8,
   "metadata": {},
   "outputs": [
    {
     "name": "stderr",
     "output_type": "stream",
     "text": [
      "C:\\Users\\Claire\\Anaconda3\\lib\\site-packages\\ipykernel_launcher.py:2: SettingWithCopyWarning: \n",
      "A value is trying to be set on a copy of a slice from a DataFrame.\n",
      "Try using .loc[row_indexer,col_indexer] = value instead\n",
      "\n",
      "See the caveats in the documentation: http://pandas.pydata.org/pandas-docs/stable/indexing.html#indexing-view-versus-copy\n",
      "  \n",
      "C:\\Users\\Claire\\Anaconda3\\lib\\site-packages\\ipykernel_launcher.py:3: SettingWithCopyWarning: \n",
      "A value is trying to be set on a copy of a slice from a DataFrame.\n",
      "Try using .loc[row_indexer,col_indexer] = value instead\n",
      "\n",
      "See the caveats in the documentation: http://pandas.pydata.org/pandas-docs/stable/indexing.html#indexing-view-versus-copy\n",
      "  This is separate from the ipykernel package so we can avoid doing imports until\n"
     ]
    }
   ],
   "source": [
    "# We split up the Geo Point column into 2 columns Latitude and Longitude.\n",
    "ligne1[\"Latitude\"]=pd.to_numeric(ligne1[\"Geo Point\"].str.split(\",\").str.get(0))\n",
    "ligne1[\"Longitude\"]=pd.to_numeric(ligne1[\"Geo Point\"].str.split(\",\").str.get(1))"
   ]
  },
  {
   "cell_type": "code",
   "execution_count": 9,
   "metadata": {},
   "outputs": [],
   "source": [
    "# We put into order the stations from West to East. La Défense station is the western station of the line.\n",
    "ligne1_WE=ligne1.sort_values(by=\"Latitude\", ascending=False).reset_index(drop = True)\n",
    "# We add a column \"transport time\", that is proportional to the distance between La Défense station and each station of the line.\n",
    "ligne1_WE[\"Transport time\"]=ligne1_WE.index"
   ]
  },
  {
   "cell_type": "code",
   "execution_count": 10,
   "metadata": {},
   "outputs": [],
   "source": [
    "# We delete \"Geo Point\" and \"Ligne\" columns, we rename \"nomlong\" as \"station\".\n",
    "ligne1_WE.drop(columns=[\"Geo Point\", \"ligne\"], inplace=True)\n",
    "ligne1_WE.rename(columns={\"nomlong\":\"Station\"}, inplace=True)"
   ]
  },
  {
   "cell_type": "code",
   "execution_count": 11,
   "metadata": {},
   "outputs": [
    {
     "data": {
      "text/html": [
       "<div>\n",
       "<style scoped>\n",
       "    .dataframe tbody tr th:only-of-type {\n",
       "        vertical-align: middle;\n",
       "    }\n",
       "\n",
       "    .dataframe tbody tr th {\n",
       "        vertical-align: top;\n",
       "    }\n",
       "\n",
       "    .dataframe thead th {\n",
       "        text-align: right;\n",
       "    }\n",
       "</style>\n",
       "<table border=\"1\" class=\"dataframe\">\n",
       "  <thead>\n",
       "    <tr style=\"text-align: right;\">\n",
       "      <th></th>\n",
       "      <th>Station</th>\n",
       "      <th>Latitude</th>\n",
       "      <th>Longitude</th>\n",
       "      <th>Transport time</th>\n",
       "    </tr>\n",
       "  </thead>\n",
       "  <tbody>\n",
       "    <tr>\n",
       "      <th>0</th>\n",
       "      <td>LA DEFENSE-GRANDE ARCHE</td>\n",
       "      <td>48.892187</td>\n",
       "      <td>2.237018</td>\n",
       "      <td>0</td>\n",
       "    </tr>\n",
       "    <tr>\n",
       "      <th>1</th>\n",
       "      <td>ESPLANADE DE LA DEFENSE</td>\n",
       "      <td>48.888631</td>\n",
       "      <td>2.247932</td>\n",
       "      <td>1</td>\n",
       "    </tr>\n",
       "    <tr>\n",
       "      <th>2</th>\n",
       "      <td>PONT DE NEUILLY (AVENUE DE MADRID)</td>\n",
       "      <td>48.884708</td>\n",
       "      <td>2.260515</td>\n",
       "      <td>2</td>\n",
       "    </tr>\n",
       "    <tr>\n",
       "      <th>3</th>\n",
       "      <td>LES SABLONS (JARDIN D'ACCLIMATATION)</td>\n",
       "      <td>48.881192</td>\n",
       "      <td>2.271687</td>\n",
       "      <td>3</td>\n",
       "    </tr>\n",
       "    <tr>\n",
       "      <th>4</th>\n",
       "      <td>PORTE MAILLOT</td>\n",
       "      <td>48.877551</td>\n",
       "      <td>2.283162</td>\n",
       "      <td>4</td>\n",
       "    </tr>\n",
       "  </tbody>\n",
       "</table>\n",
       "</div>"
      ],
      "text/plain": [
       "                                Station   Latitude  Longitude  Transport time\n",
       "0               LA DEFENSE-GRANDE ARCHE  48.892187   2.237018               0\n",
       "1               ESPLANADE DE LA DEFENSE  48.888631   2.247932               1\n",
       "2    PONT DE NEUILLY (AVENUE DE MADRID)  48.884708   2.260515               2\n",
       "3  LES SABLONS (JARDIN D'ACCLIMATATION)  48.881192   2.271687               3\n",
       "4                         PORTE MAILLOT  48.877551   2.283162               4"
      ]
     },
     "execution_count": 11,
     "metadata": {},
     "output_type": "execute_result"
    }
   ],
   "source": [
    "ligne1_WE.head()"
   ]
  },
  {
   "cell_type": "code",
   "execution_count": 12,
   "metadata": {},
   "outputs": [
    {
     "name": "stdout",
     "output_type": "stream",
     "text": [
      "<class 'pandas.core.frame.DataFrame'>\n",
      "RangeIndex: 25 entries, 0 to 24\n",
      "Data columns (total 4 columns):\n",
      "Station           25 non-null object\n",
      "Latitude          25 non-null float64\n",
      "Longitude         25 non-null float64\n",
      "Transport time    25 non-null int64\n",
      "dtypes: float64(2), int64(1), object(1)\n",
      "memory usage: 880.0+ bytes\n"
     ]
    }
   ],
   "source": [
    "ligne1_WE.info()"
   ]
  },
  {
   "cell_type": "markdown",
   "metadata": {},
   "source": [
    "### Surroundings of each metro station\n",
    "We use Foursquare application in order to retrieve data about restautants and cinemas located near each station."
   ]
  },
  {
   "cell_type": "code",
   "execution_count": 13,
   "metadata": {},
   "outputs": [
    {
     "name": "stdout",
     "output_type": "stream",
     "text": [
      "The geographical coordinates of Paris are 48.8566101, 2.3514992.\n"
     ]
    }
   ],
   "source": [
    "address = 'Paris, France'\n",
    "geolocator = Nominatim(user_agent=\"paris_explorer\")\n",
    "location = geolocator.geocode(address)\n",
    "latitude = location.latitude\n",
    "longitude = location.longitude\n",
    "print('The geographical coordinates of Paris are {}, {}.'.format(latitude, longitude))"
   ]
  },
  {
   "cell_type": "code",
   "execution_count": 14,
   "metadata": {},
   "outputs": [
    {
     "data": {
      "text/html": [
       "<div style=\"width:100%;\"><div style=\"position:relative;width:100%;height:0;padding-bottom:60%;\"><iframe src=\"data:text/html;charset=utf-8;base64,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\" style=\"position:absolute;width:100%;height:100%;left:0;top:0;border:none !important;\" allowfullscreen webkitallowfullscreen mozallowfullscreen></iframe></div></div>"
      ],
      "text/plain": [
       "<folium.folium.Map at 0x20c5ea2ffd0>"
      ]
     },
     "execution_count": 14,
     "metadata": {},
     "output_type": "execute_result"
    }
   ],
   "source": [
    "# We create a map to visualize the location of the metro stations.\n",
    "map_paris = folium.Map(location=[latitude, longitude], zoom_start=12)\n",
    "for lat, lng, nm in zip(ligne1_WE['Latitude'], ligne1_WE['Longitude'], ligne1_WE[\"Station\"]):\n",
    "    label = '{}'.format(nm)\n",
    "    label = folium.Popup(label, parse_html=True)\n",
    "    folium.CircleMarker(\n",
    "       [lat, lng],\n",
    "       radius=5,\n",
    "       popup=label,\n",
    "       fill=True,\n",
    "       color='blue',\n",
    "       fill_color='blue',\n",
    "       fill_opacity=0.7,\n",
    "       parse_html=False).add_to(map_paris)\n",
    "map_paris"
   ]
  },
  {
   "cell_type": "code",
   "execution_count": 15,
   "metadata": {},
   "outputs": [],
   "source": [
    "# We define the categories we are looking for in a radius of 300 m around the station and we limit the result to 50 venues.\n",
    "list_categories=[\"Restaurant\",\"Cinema\"]\n",
    "radius=300\n",
    "LIMIT=50"
   ]
  },
  {
   "cell_type": "code",
   "execution_count": 16,
   "metadata": {},
   "outputs": [],
   "source": [
    "# We define a function that counts the number of venues (restaurant and cinema) for each station.\n",
    "def searchVenues(row):\n",
    "    lati=ligne1_WE.loc[row,\"Latitude\"]\n",
    "    longi=ligne1_WE.loc[row,\"Longitude\"]\n",
    "    total_cat=[]\n",
    "    for category in list_categories:\n",
    "        search_query=[category]\n",
    "        url = 'https://api.foursquare.com/v2/venues/search?client_id={}&client_secret={}&ll={},{}&v={}&query={}&radius={}&limit={}'.format(CLIENT_ID, CLIENT_SECRET, lati, longi, VERSION, search_query, radius, LIMIT)\n",
    "        results = requests.get(url).json()\n",
    "        # assign relevant part of JSON to venues\n",
    "        venues = results['response']['venues']\n",
    "        # Number of venues for a category\n",
    "        total_cat.append(len(venues))\n",
    "    return total_cat"
   ]
  },
  {
   "cell_type": "code",
   "execution_count": 17,
   "metadata": {},
   "outputs": [],
   "source": [
    "# We build a dataframe that contains the number of restaurants and the number of cinemas for all the stations.\n",
    "stations=[]\n",
    "for row in range(len(ligne1_WE)):\n",
    "    stations.append(searchVenues(row))\n",
    "resultat=pd.DataFrame(stations,columns=[cat for cat in list_categories])"
   ]
  },
  {
   "cell_type": "code",
   "execution_count": 18,
   "metadata": {},
   "outputs": [
    {
     "data": {
      "text/html": [
       "<div>\n",
       "<style scoped>\n",
       "    .dataframe tbody tr th:only-of-type {\n",
       "        vertical-align: middle;\n",
       "    }\n",
       "\n",
       "    .dataframe tbody tr th {\n",
       "        vertical-align: top;\n",
       "    }\n",
       "\n",
       "    .dataframe thead th {\n",
       "        text-align: right;\n",
       "    }\n",
       "</style>\n",
       "<table border=\"1\" class=\"dataframe\">\n",
       "  <thead>\n",
       "    <tr style=\"text-align: right;\">\n",
       "      <th></th>\n",
       "      <th>Station</th>\n",
       "      <th>Latitude</th>\n",
       "      <th>Longitude</th>\n",
       "      <th>Transport time</th>\n",
       "      <th>Restaurant</th>\n",
       "      <th>Cinema</th>\n",
       "    </tr>\n",
       "  </thead>\n",
       "  <tbody>\n",
       "    <tr>\n",
       "      <th>0</th>\n",
       "      <td>LA DEFENSE-GRANDE ARCHE</td>\n",
       "      <td>48.892187</td>\n",
       "      <td>2.237018</td>\n",
       "      <td>0</td>\n",
       "      <td>7</td>\n",
       "      <td>1</td>\n",
       "    </tr>\n",
       "    <tr>\n",
       "      <th>1</th>\n",
       "      <td>ESPLANADE DE LA DEFENSE</td>\n",
       "      <td>48.888631</td>\n",
       "      <td>2.247932</td>\n",
       "      <td>1</td>\n",
       "      <td>10</td>\n",
       "      <td>0</td>\n",
       "    </tr>\n",
       "    <tr>\n",
       "      <th>2</th>\n",
       "      <td>PONT DE NEUILLY (AVENUE DE MADRID)</td>\n",
       "      <td>48.884708</td>\n",
       "      <td>2.260515</td>\n",
       "      <td>2</td>\n",
       "      <td>1</td>\n",
       "      <td>0</td>\n",
       "    </tr>\n",
       "    <tr>\n",
       "      <th>3</th>\n",
       "      <td>LES SABLONS (JARDIN D'ACCLIMATATION)</td>\n",
       "      <td>48.881192</td>\n",
       "      <td>2.271687</td>\n",
       "      <td>3</td>\n",
       "      <td>1</td>\n",
       "      <td>0</td>\n",
       "    </tr>\n",
       "    <tr>\n",
       "      <th>4</th>\n",
       "      <td>PORTE MAILLOT</td>\n",
       "      <td>48.877551</td>\n",
       "      <td>2.283162</td>\n",
       "      <td>4</td>\n",
       "      <td>8</td>\n",
       "      <td>1</td>\n",
       "    </tr>\n",
       "  </tbody>\n",
       "</table>\n",
       "</div>"
      ],
      "text/plain": [
       "                                Station   Latitude  Longitude  Transport time  \\\n",
       "0               LA DEFENSE-GRANDE ARCHE  48.892187   2.237018               0   \n",
       "1               ESPLANADE DE LA DEFENSE  48.888631   2.247932               1   \n",
       "2    PONT DE NEUILLY (AVENUE DE MADRID)  48.884708   2.260515               2   \n",
       "3  LES SABLONS (JARDIN D'ACCLIMATATION)  48.881192   2.271687               3   \n",
       "4                         PORTE MAILLOT  48.877551   2.283162               4   \n",
       "\n",
       "   Restaurant  Cinema  \n",
       "0           7       1  \n",
       "1          10       0  \n",
       "2           1       0  \n",
       "3           1       0  \n",
       "4           8       1  "
      ]
     },
     "execution_count": 18,
     "metadata": {},
     "output_type": "execute_result"
    }
   ],
   "source": [
    "# We add the result to the dataframe ligne1_WE.\n",
    "res=pd.concat([ligne1_WE, resultat], axis=1)\n",
    "res.head()"
   ]
  },
  {
   "cell_type": "markdown",
   "metadata": {},
   "source": [
    "### Clustering\n",
    "Now the data set is prepared, we can proceed to the clustering."
   ]
  },
  {
   "cell_type": "code",
   "execution_count": 19,
   "metadata": {},
   "outputs": [],
   "source": [
    "# We define our variable.\n",
    "X=res[[\"Transport time\",\"Restaurant\",\"Cinema\"]]"
   ]
  },
  {
   "cell_type": "code",
   "execution_count": 20,
   "metadata": {},
   "outputs": [],
   "source": [
    "from sklearn.cluster import KMeans\n",
    "from sklearn import preprocessing\n",
    "import matplotlib.pyplot as plt"
   ]
  },
  {
   "cell_type": "code",
   "execution_count": 21,
   "metadata": {},
   "outputs": [],
   "source": [
    "# we normalize the dataset.\n",
    "X = preprocessing.StandardScaler().fit(X).transform(X)"
   ]
  },
  {
   "cell_type": "code",
   "execution_count": 22,
   "metadata": {},
   "outputs": [
    {
     "data": {
      "text/plain": [
       "Text(0, 0.5, 'inertia')"
      ]
     },
     "execution_count": 22,
     "metadata": {},
     "output_type": "execute_result"
    },
    {
     "data": {
      "image/png": "[encoded data removed]",
      "text/plain": [
       "<Figure size 432x288 with 1 Axes>"
      ]
     },
     "metadata": {
      "needs_background": "light"
     },
     "output_type": "display_data"
    }
   ],
   "source": [
    "# Before applying the K-Means algorithm, we determine the best number of clusters k by minimizing the inertia.\n",
    "inertie=[]\n",
    "for k in range(2,10):\n",
    "    model=KMeans(n_clusters=k)\n",
    "    model.fit(X)\n",
    "    inertie.append(model.inertia_)\n",
    "plt.plot(range(2,10), inertie)\n",
    "plt.title(\"k versus inertia\")\n",
    "plt.xlabel(\"k\")\n",
    "plt.ylabel(\"inertia\")"
   ]
  },
  {
   "cell_type": "code",
   "execution_count": 23,
   "metadata": {},
   "outputs": [
    {
     "data": {
      "text/plain": [
       "KMeans(algorithm='auto', copy_x=True, init='k-means++', max_iter=300,\n",
       "       n_clusters=5, n_init=10, n_jobs=None, precompute_distances='auto',\n",
       "       random_state=None, tol=0.0001, verbose=0)"
      ]
     },
     "execution_count": 23,
     "metadata": {},
     "output_type": "execute_result"
    }
   ],
   "source": [
    "# We choose k=5 and we fit the K-Means model with our data X.\n",
    "model=KMeans(n_clusters=5)\n",
    "model.fit(X)"
   ]
  },
  {
   "cell_type": "code",
   "execution_count": 24,
   "metadata": {},
   "outputs": [
    {
     "data": {
      "text/html": [
       "<div>\n",
       "<style scoped>\n",
       "    .dataframe tbody tr th:only-of-type {\n",
       "        vertical-align: middle;\n",
       "    }\n",
       "\n",
       "    .dataframe tbody tr th {\n",
       "        vertical-align: top;\n",
       "    }\n",
       "\n",
       "    .dataframe thead th {\n",
       "        text-align: right;\n",
       "    }\n",
       "</style>\n",
       "<table border=\"1\" class=\"dataframe\">\n",
       "  <thead>\n",
       "    <tr style=\"text-align: right;\">\n",
       "      <th></th>\n",
       "      <th>Station</th>\n",
       "      <th>Latitude</th>\n",
       "      <th>Longitude</th>\n",
       "      <th>Transport time</th>\n",
       "      <th>Restaurant</th>\n",
       "      <th>Cinema</th>\n",
       "      <th>Cluster</th>\n",
       "    </tr>\n",
       "  </thead>\n",
       "  <tbody>\n",
       "    <tr>\n",
       "      <th>0</th>\n",
       "      <td>LA DEFENSE-GRANDE ARCHE</td>\n",
       "      <td>48.892187</td>\n",
       "      <td>2.237018</td>\n",
       "      <td>0</td>\n",
       "      <td>7</td>\n",
       "      <td>1</td>\n",
       "      <td>1</td>\n",
       "    </tr>\n",
       "    <tr>\n",
       "      <th>1</th>\n",
       "      <td>ESPLANADE DE LA DEFENSE</td>\n",
       "      <td>48.888631</td>\n",
       "      <td>2.247932</td>\n",
       "      <td>1</td>\n",
       "      <td>10</td>\n",
       "      <td>0</td>\n",
       "      <td>1</td>\n",
       "    </tr>\n",
       "    <tr>\n",
       "      <th>2</th>\n",
       "      <td>PONT DE NEUILLY (AVENUE DE MADRID)</td>\n",
       "      <td>48.884708</td>\n",
       "      <td>2.260515</td>\n",
       "      <td>2</td>\n",
       "      <td>1</td>\n",
       "      <td>0</td>\n",
       "      <td>1</td>\n",
       "    </tr>\n",
       "    <tr>\n",
       "      <th>3</th>\n",
       "      <td>LES SABLONS (JARDIN D'ACCLIMATATION)</td>\n",
       "      <td>48.881192</td>\n",
       "      <td>2.271687</td>\n",
       "      <td>3</td>\n",
       "      <td>1</td>\n",
       "      <td>0</td>\n",
       "      <td>1</td>\n",
       "    </tr>\n",
       "    <tr>\n",
       "      <th>4</th>\n",
       "      <td>PORTE MAILLOT</td>\n",
       "      <td>48.877551</td>\n",
       "      <td>2.283162</td>\n",
       "      <td>4</td>\n",
       "      <td>8</td>\n",
       "      <td>1</td>\n",
       "      <td>1</td>\n",
       "    </tr>\n",
       "  </tbody>\n",
       "</table>\n",
       "</div>"
      ],
      "text/plain": [
       "                                Station   Latitude  Longitude  Transport time  \\\n",
       "0               LA DEFENSE-GRANDE ARCHE  48.892187   2.237018               0   \n",
       "1               ESPLANADE DE LA DEFENSE  48.888631   2.247932               1   \n",
       "2    PONT DE NEUILLY (AVENUE DE MADRID)  48.884708   2.260515               2   \n",
       "3  LES SABLONS (JARDIN D'ACCLIMATATION)  48.881192   2.271687               3   \n",
       "4                         PORTE MAILLOT  48.877551   2.283162               4   \n",
       "\n",
       "   Restaurant  Cinema  Cluster  \n",
       "0           7       1        1  \n",
       "1          10       0        1  \n",
       "2           1       0        1  \n",
       "3           1       0        1  \n",
       "4           8       1        1  "
      ]
     },
     "execution_count": 24,
     "metadata": {},
     "output_type": "execute_result"
    }
   ],
   "source": [
    "# We attribute the predicted cluster to each station and add it in the dataframe.\n",
    "clusters=model.labels_\n",
    "res[\"Cluster\"]=clusters\n",
    "res.head()"
   ]
  },
  {
   "cell_type": "markdown",
   "metadata": {},
   "source": [
    "### Results\n",
    "We have segmented the 25 stations of the metro line 1 in 5 clusters by applying the K-Means algorithm. We now study the characteristics of each group."
   ]
  },
  {
   "cell_type": "code",
   "execution_count": 25,
   "metadata": {},
   "outputs": [
    {
     "data": {
      "text/html": [
       "<div>\n",
       "<style scoped>\n",
       "    .dataframe tbody tr th:only-of-type {\n",
       "        vertical-align: middle;\n",
       "    }\n",
       "\n",
       "    .dataframe tbody tr th {\n",
       "        vertical-align: top;\n",
       "    }\n",
       "\n",
       "    .dataframe thead th {\n",
       "        text-align: right;\n",
       "    }\n",
       "</style>\n",
       "<table border=\"1\" class=\"dataframe\">\n",
       "  <thead>\n",
       "    <tr style=\"text-align: right;\">\n",
       "      <th></th>\n",
       "      <th>Transport time</th>\n",
       "      <th>Restaurant</th>\n",
       "      <th>Cinema</th>\n",
       "      <th>Number of stations</th>\n",
       "      <th>Ratio</th>\n",
       "    </tr>\n",
       "  </thead>\n",
       "  <tbody>\n",
       "    <tr>\n",
       "      <th>0</th>\n",
       "      <td>0.776580</td>\n",
       "      <td>0.053275</td>\n",
       "      <td>-0.625119</td>\n",
       "      <td>5</td>\n",
       "      <td>-0.368181</td>\n",
       "    </tr>\n",
       "    <tr>\n",
       "      <th>1</th>\n",
       "      <td>-1.168833</td>\n",
       "      <td>-0.416052</td>\n",
       "      <td>-0.439071</td>\n",
       "      <td>7</td>\n",
       "      <td>0.365802</td>\n",
       "    </tr>\n",
       "    <tr>\n",
       "      <th>2</th>\n",
       "      <td>1.386750</td>\n",
       "      <td>-1.422885</td>\n",
       "      <td>-0.625119</td>\n",
       "      <td>4</td>\n",
       "      <td>-0.738418</td>\n",
       "    </tr>\n",
       "    <tr>\n",
       "      <th>3</th>\n",
       "      <td>-0.485363</td>\n",
       "      <td>1.185368</td>\n",
       "      <td>1.979543</td>\n",
       "      <td>4</td>\n",
       "      <td>-3.260356</td>\n",
       "    </tr>\n",
       "    <tr>\n",
       "      <th>4</th>\n",
       "      <td>0.138675</td>\n",
       "      <td>0.719212</td>\n",
       "      <td>0.156280</td>\n",
       "      <td>5</td>\n",
       "      <td>3.156630</td>\n",
       "    </tr>\n",
       "  </tbody>\n",
       "</table>\n",
       "</div>"
      ],
      "text/plain": [
       "   Transport time  Restaurant    Cinema  Number of stations     Ratio\n",
       "0        0.776580    0.053275 -0.625119                   5 -0.368181\n",
       "1       -1.168833   -0.416052 -0.439071                   7  0.365802\n",
       "2        1.386750   -1.422885 -0.625119                   4 -0.738418\n",
       "3       -0.485363    1.185368  1.979543                   4 -3.260356\n",
       "4        0.138675    0.719212  0.156280                   5  3.156630"
      ]
     },
     "execution_count": 25,
     "metadata": {},
     "output_type": "execute_result"
    }
   ],
   "source": [
    "# We observe the resulting centroides of the 5 clusters.\n",
    "centroides=pd.DataFrame(model.cluster_centers_, columns=[\"Transport time\",\"Restaurant\",\"Cinema\"])\n",
    "centroides[\"Number of stations\"]=res[\"Cluster\"].value_counts()\n",
    "centroides[\"Ratio\"]=centroides[[\"Restaurant\",\"Cinema\"]].mean(axis=1)/centroides[\"Transport time\"]\n",
    "centroides"
   ]
  },
  {
   "cell_type": "code",
   "execution_count": 26,
   "metadata": {},
   "outputs": [
    {
     "data": {
      "text/html": [
       "<div>\n",
       "<style scoped>\n",
       "    .dataframe tbody tr th:only-of-type {\n",
       "        vertical-align: middle;\n",
       "    }\n",
       "\n",
       "    .dataframe tbody tr th {\n",
       "        vertical-align: top;\n",
       "    }\n",
       "\n",
       "    .dataframe thead th {\n",
       "        text-align: right;\n",
       "    }\n",
       "</style>\n",
       "<table border=\"1\" class=\"dataframe\">\n",
       "  <thead>\n",
       "    <tr style=\"text-align: right;\">\n",
       "      <th></th>\n",
       "      <th>Station</th>\n",
       "      <th>Latitude</th>\n",
       "      <th>Longitude</th>\n",
       "      <th>Transport time</th>\n",
       "      <th>Restaurant</th>\n",
       "      <th>Cinema</th>\n",
       "      <th>Cluster</th>\n",
       "    </tr>\n",
       "  </thead>\n",
       "  <tbody>\n",
       "    <tr>\n",
       "      <th>12</th>\n",
       "      <td>PALAIS ROYAL-MUSEE DU LOUVRE</td>\n",
       "      <td>48.862348</td>\n",
       "      <td>2.336496</td>\n",
       "      <td>12</td>\n",
       "      <td>8</td>\n",
       "      <td>0</td>\n",
       "      <td>0</td>\n",
       "    </tr>\n",
       "    <tr>\n",
       "      <th>17</th>\n",
       "      <td>BASTILLE</td>\n",
       "      <td>48.852479</td>\n",
       "      <td>2.369321</td>\n",
       "      <td>17</td>\n",
       "      <td>7</td>\n",
       "      <td>0</td>\n",
       "      <td>0</td>\n",
       "    </tr>\n",
       "    <tr>\n",
       "      <th>18</th>\n",
       "      <td>NATION</td>\n",
       "      <td>48.847579</td>\n",
       "      <td>2.395555</td>\n",
       "      <td>18</td>\n",
       "      <td>6</td>\n",
       "      <td>0</td>\n",
       "      <td>0</td>\n",
       "    </tr>\n",
       "    <tr>\n",
       "      <th>19</th>\n",
       "      <td>REUILLY-DIDEROT</td>\n",
       "      <td>48.847304</td>\n",
       "      <td>2.386342</td>\n",
       "      <td>19</td>\n",
       "      <td>7</td>\n",
       "      <td>0</td>\n",
       "      <td>0</td>\n",
       "    </tr>\n",
       "    <tr>\n",
       "      <th>22</th>\n",
       "      <td>GARE DE LYON</td>\n",
       "      <td>48.846028</td>\n",
       "      <td>2.374963</td>\n",
       "      <td>22</td>\n",
       "      <td>9</td>\n",
       "      <td>0</td>\n",
       "      <td>0</td>\n",
       "    </tr>\n",
       "  </tbody>\n",
       "</table>\n",
       "</div>"
      ],
      "text/plain": [
       "                         Station   Latitude  Longitude  Transport time  \\\n",
       "12  PALAIS ROYAL-MUSEE DU LOUVRE  48.862348   2.336496              12   \n",
       "17                      BASTILLE  48.852479   2.369321              17   \n",
       "18                        NATION  48.847579   2.395555              18   \n",
       "19               REUILLY-DIDEROT  48.847304   2.386342              19   \n",
       "22                  GARE DE LYON  48.846028   2.374963              22   \n",
       "\n",
       "    Restaurant  Cinema  Cluster  \n",
       "12           8       0        0  \n",
       "17           7       0        0  \n",
       "18           6       0        0  \n",
       "19           7       0        0  \n",
       "22           9       0        0  "
      ]
     },
     "execution_count": 26,
     "metadata": {},
     "output_type": "execute_result"
    }
   ],
   "source": [
    "# Cluster 0: high transport time, some restaurants\n",
    "res[res[\"Cluster\"]==0]"
   ]
  },
  {
   "cell_type": "code",
   "execution_count": 27,
   "metadata": {},
   "outputs": [
    {
     "data": {
      "text/html": [
       "<div>\n",
       "<style scoped>\n",
       "    .dataframe tbody tr th:only-of-type {\n",
       "        vertical-align: middle;\n",
       "    }\n",
       "\n",
       "    .dataframe tbody tr th {\n",
       "        vertical-align: top;\n",
       "    }\n",
       "\n",
       "    .dataframe thead th {\n",
       "        text-align: right;\n",
       "    }\n",
       "</style>\n",
       "<table border=\"1\" class=\"dataframe\">\n",
       "  <thead>\n",
       "    <tr style=\"text-align: right;\">\n",
       "      <th></th>\n",
       "      <th>Station</th>\n",
       "      <th>Latitude</th>\n",
       "      <th>Longitude</th>\n",
       "      <th>Transport time</th>\n",
       "      <th>Restaurant</th>\n",
       "      <th>Cinema</th>\n",
       "      <th>Cluster</th>\n",
       "    </tr>\n",
       "  </thead>\n",
       "  <tbody>\n",
       "    <tr>\n",
       "      <th>0</th>\n",
       "      <td>LA DEFENSE-GRANDE ARCHE</td>\n",
       "      <td>48.892187</td>\n",
       "      <td>2.237018</td>\n",
       "      <td>0</td>\n",
       "      <td>7</td>\n",
       "      <td>1</td>\n",
       "      <td>1</td>\n",
       "    </tr>\n",
       "    <tr>\n",
       "      <th>1</th>\n",
       "      <td>ESPLANADE DE LA DEFENSE</td>\n",
       "      <td>48.888631</td>\n",
       "      <td>2.247932</td>\n",
       "      <td>1</td>\n",
       "      <td>10</td>\n",
       "      <td>0</td>\n",
       "      <td>1</td>\n",
       "    </tr>\n",
       "    <tr>\n",
       "      <th>2</th>\n",
       "      <td>PONT DE NEUILLY (AVENUE DE MADRID)</td>\n",
       "      <td>48.884708</td>\n",
       "      <td>2.260515</td>\n",
       "      <td>2</td>\n",
       "      <td>1</td>\n",
       "      <td>0</td>\n",
       "      <td>1</td>\n",
       "    </tr>\n",
       "    <tr>\n",
       "      <th>3</th>\n",
       "      <td>LES SABLONS (JARDIN D'ACCLIMATATION)</td>\n",
       "      <td>48.881192</td>\n",
       "      <td>2.271687</td>\n",
       "      <td>3</td>\n",
       "      <td>1</td>\n",
       "      <td>0</td>\n",
       "      <td>1</td>\n",
       "    </tr>\n",
       "    <tr>\n",
       "      <th>4</th>\n",
       "      <td>PORTE MAILLOT</td>\n",
       "      <td>48.877551</td>\n",
       "      <td>2.283162</td>\n",
       "      <td>4</td>\n",
       "      <td>8</td>\n",
       "      <td>1</td>\n",
       "      <td>1</td>\n",
       "    </tr>\n",
       "    <tr>\n",
       "      <th>5</th>\n",
       "      <td>ARGENTINE</td>\n",
       "      <td>48.875594</td>\n",
       "      <td>2.289323</td>\n",
       "      <td>5</td>\n",
       "      <td>5</td>\n",
       "      <td>0</td>\n",
       "      <td>1</td>\n",
       "    </tr>\n",
       "    <tr>\n",
       "      <th>10</th>\n",
       "      <td>CONCORDE</td>\n",
       "      <td>48.866286</td>\n",
       "      <td>2.322943</td>\n",
       "      <td>10</td>\n",
       "      <td>5</td>\n",
       "      <td>0</td>\n",
       "      <td>1</td>\n",
       "    </tr>\n",
       "  </tbody>\n",
       "</table>\n",
       "</div>"
      ],
      "text/plain": [
       "                                 Station   Latitude  Longitude  \\\n",
       "0                LA DEFENSE-GRANDE ARCHE  48.892187   2.237018   \n",
       "1                ESPLANADE DE LA DEFENSE  48.888631   2.247932   \n",
       "2     PONT DE NEUILLY (AVENUE DE MADRID)  48.884708   2.260515   \n",
       "3   LES SABLONS (JARDIN D'ACCLIMATATION)  48.881192   2.271687   \n",
       "4                          PORTE MAILLOT  48.877551   2.283162   \n",
       "5                              ARGENTINE  48.875594   2.289323   \n",
       "10                              CONCORDE  48.866286   2.322943   \n",
       "\n",
       "    Transport time  Restaurant  Cinema  Cluster  \n",
       "0                0           7       1        1  \n",
       "1                1          10       0        1  \n",
       "2                2           1       0        1  \n",
       "3                3           1       0        1  \n",
       "4                4           8       1        1  \n",
       "5                5           5       0        1  \n",
       "10              10           5       0        1  "
      ]
     },
     "execution_count": 27,
     "metadata": {},
     "output_type": "execute_result"
    }
   ],
   "source": [
    "# Cluster 1: low transport time, some restaurants, few or none cinemas\n",
    "res[res[\"Cluster\"]==1]"
   ]
  },
  {
   "cell_type": "code",
   "execution_count": 28,
   "metadata": {},
   "outputs": [
    {
     "data": {
      "text/html": [
       "<div>\n",
       "<style scoped>\n",
       "    .dataframe tbody tr th:only-of-type {\n",
       "        vertical-align: middle;\n",
       "    }\n",
       "\n",
       "    .dataframe tbody tr th {\n",
       "        vertical-align: top;\n",
       "    }\n",
       "\n",
       "    .dataframe thead th {\n",
       "        text-align: right;\n",
       "    }\n",
       "</style>\n",
       "<table border=\"1\" class=\"dataframe\">\n",
       "  <thead>\n",
       "    <tr style=\"text-align: right;\">\n",
       "      <th></th>\n",
       "      <th>Station</th>\n",
       "      <th>Latitude</th>\n",
       "      <th>Longitude</th>\n",
       "      <th>Transport time</th>\n",
       "      <th>Restaurant</th>\n",
       "      <th>Cinema</th>\n",
       "      <th>Cluster</th>\n",
       "    </tr>\n",
       "  </thead>\n",
       "  <tbody>\n",
       "    <tr>\n",
       "      <th>20</th>\n",
       "      <td>PORTE DE VINCENNES</td>\n",
       "      <td>48.847158</td>\n",
       "      <td>2.410140</td>\n",
       "      <td>20</td>\n",
       "      <td>0</td>\n",
       "      <td>0</td>\n",
       "      <td>2</td>\n",
       "    </tr>\n",
       "    <tr>\n",
       "      <th>21</th>\n",
       "      <td>SAINT-MANDE</td>\n",
       "      <td>48.846357</td>\n",
       "      <td>2.419480</td>\n",
       "      <td>21</td>\n",
       "      <td>0</td>\n",
       "      <td>0</td>\n",
       "      <td>2</td>\n",
       "    </tr>\n",
       "    <tr>\n",
       "      <th>23</th>\n",
       "      <td>BERAULT</td>\n",
       "      <td>48.845471</td>\n",
       "      <td>2.429205</td>\n",
       "      <td>23</td>\n",
       "      <td>2</td>\n",
       "      <td>0</td>\n",
       "      <td>2</td>\n",
       "    </tr>\n",
       "    <tr>\n",
       "      <th>24</th>\n",
       "      <td>CHATEAU DE VINCENNES</td>\n",
       "      <td>48.844456</td>\n",
       "      <td>2.440440</td>\n",
       "      <td>24</td>\n",
       "      <td>1</td>\n",
       "      <td>0</td>\n",
       "      <td>2</td>\n",
       "    </tr>\n",
       "  </tbody>\n",
       "</table>\n",
       "</div>"
      ],
      "text/plain": [
       "                 Station   Latitude  Longitude  Transport time  Restaurant  \\\n",
       "20    PORTE DE VINCENNES  48.847158   2.410140              20           0   \n",
       "21           SAINT-MANDE  48.846357   2.419480              21           0   \n",
       "23               BERAULT  48.845471   2.429205              23           2   \n",
       "24  CHATEAU DE VINCENNES  48.844456   2.440440              24           1   \n",
       "\n",
       "    Cinema  Cluster  \n",
       "20       0        2  \n",
       "21       0        2  \n",
       "23       0        2  \n",
       "24       0        2  "
      ]
     },
     "execution_count": 28,
     "metadata": {},
     "output_type": "execute_result"
    }
   ],
   "source": [
    "# Cluster 2: high transport time, few or none venues\n",
    "res[res[\"Cluster\"]==2]"
   ]
  },
  {
   "cell_type": "code",
   "execution_count": 29,
   "metadata": {},
   "outputs": [
    {
     "data": {
      "text/html": [
       "<div>\n",
       "<style scoped>\n",
       "    .dataframe tbody tr th:only-of-type {\n",
       "        vertical-align: middle;\n",
       "    }\n",
       "\n",
       "    .dataframe tbody tr th {\n",
       "        vertical-align: top;\n",
       "    }\n",
       "\n",
       "    .dataframe thead th {\n",
       "        text-align: right;\n",
       "    }\n",
       "</style>\n",
       "<table border=\"1\" class=\"dataframe\">\n",
       "  <thead>\n",
       "    <tr style=\"text-align: right;\">\n",
       "      <th></th>\n",
       "      <th>Station</th>\n",
       "      <th>Latitude</th>\n",
       "      <th>Longitude</th>\n",
       "      <th>Transport time</th>\n",
       "      <th>Restaurant</th>\n",
       "      <th>Cinema</th>\n",
       "      <th>Cluster</th>\n",
       "    </tr>\n",
       "  </thead>\n",
       "  <tbody>\n",
       "    <tr>\n",
       "      <th>6</th>\n",
       "      <td>CHARLES DE GAULLE ETOILE</td>\n",
       "      <td>48.875150</td>\n",
       "      <td>2.295905</td>\n",
       "      <td>6</td>\n",
       "      <td>10</td>\n",
       "      <td>3</td>\n",
       "      <td>3</td>\n",
       "    </tr>\n",
       "    <tr>\n",
       "      <th>7</th>\n",
       "      <td>GEORGE V</td>\n",
       "      <td>48.872024</td>\n",
       "      <td>2.300560</td>\n",
       "      <td>7</td>\n",
       "      <td>13</td>\n",
       "      <td>6</td>\n",
       "      <td>3</td>\n",
       "    </tr>\n",
       "    <tr>\n",
       "      <th>8</th>\n",
       "      <td>FRANKLIN-D.ROOSEVELT</td>\n",
       "      <td>48.869808</td>\n",
       "      <td>2.307471</td>\n",
       "      <td>8</td>\n",
       "      <td>13</td>\n",
       "      <td>3</td>\n",
       "      <td>3</td>\n",
       "    </tr>\n",
       "    <tr>\n",
       "      <th>13</th>\n",
       "      <td>LOUVRE-RIVOLI</td>\n",
       "      <td>48.860806</td>\n",
       "      <td>2.341109</td>\n",
       "      <td>13</td>\n",
       "      <td>14</td>\n",
       "      <td>4</td>\n",
       "      <td>3</td>\n",
       "    </tr>\n",
       "  </tbody>\n",
       "</table>\n",
       "</div>"
      ],
      "text/plain": [
       "                     Station   Latitude  Longitude  Transport time  \\\n",
       "6   CHARLES DE GAULLE ETOILE  48.875150   2.295905               6   \n",
       "7                   GEORGE V  48.872024   2.300560               7   \n",
       "8       FRANKLIN-D.ROOSEVELT  48.869808   2.307471               8   \n",
       "13             LOUVRE-RIVOLI  48.860806   2.341109              13   \n",
       "\n",
       "    Restaurant  Cinema  Cluster  \n",
       "6           10       3        3  \n",
       "7           13       6        3  \n",
       "8           13       3        3  \n",
       "13          14       4        3  "
      ]
     },
     "execution_count": 29,
     "metadata": {},
     "output_type": "execute_result"
    }
   ],
   "source": [
    "# Cluster 3: low transport time, many venues\n",
    "res[res[\"Cluster\"]==3]"
   ]
  },
  {
   "cell_type": "code",
   "execution_count": 30,
   "metadata": {},
   "outputs": [
    {
     "data": {
      "text/html": [
       "<div>\n",
       "<style scoped>\n",
       "    .dataframe tbody tr th:only-of-type {\n",
       "        vertical-align: middle;\n",
       "    }\n",
       "\n",
       "    .dataframe tbody tr th {\n",
       "        vertical-align: top;\n",
       "    }\n",
       "\n",
       "    .dataframe thead th {\n",
       "        text-align: right;\n",
       "    }\n",
       "</style>\n",
       "<table border=\"1\" class=\"dataframe\">\n",
       "  <thead>\n",
       "    <tr style=\"text-align: right;\">\n",
       "      <th></th>\n",
       "      <th>Station</th>\n",
       "      <th>Latitude</th>\n",
       "      <th>Longitude</th>\n",
       "      <th>Transport time</th>\n",
       "      <th>Restaurant</th>\n",
       "      <th>Cinema</th>\n",
       "      <th>Cluster</th>\n",
       "    </tr>\n",
       "  </thead>\n",
       "  <tbody>\n",
       "    <tr>\n",
       "      <th>9</th>\n",
       "      <td>CHAMPS-ELYSEES-CLEMENCEAU</td>\n",
       "      <td>48.867905</td>\n",
       "      <td>2.313546</td>\n",
       "      <td>9</td>\n",
       "      <td>9</td>\n",
       "      <td>1</td>\n",
       "      <td>4</td>\n",
       "    </tr>\n",
       "    <tr>\n",
       "      <th>11</th>\n",
       "      <td>TUILERIES</td>\n",
       "      <td>48.864344</td>\n",
       "      <td>2.330130</td>\n",
       "      <td>11</td>\n",
       "      <td>16</td>\n",
       "      <td>0</td>\n",
       "      <td>4</td>\n",
       "    </tr>\n",
       "    <tr>\n",
       "      <th>14</th>\n",
       "      <td>CHATELET</td>\n",
       "      <td>48.858799</td>\n",
       "      <td>2.347306</td>\n",
       "      <td>14</td>\n",
       "      <td>10</td>\n",
       "      <td>1</td>\n",
       "      <td>4</td>\n",
       "    </tr>\n",
       "    <tr>\n",
       "      <th>15</th>\n",
       "      <td>HOTEL DE VILLE</td>\n",
       "      <td>48.857478</td>\n",
       "      <td>2.351578</td>\n",
       "      <td>15</td>\n",
       "      <td>12</td>\n",
       "      <td>2</td>\n",
       "      <td>4</td>\n",
       "    </tr>\n",
       "    <tr>\n",
       "      <th>16</th>\n",
       "      <td>SAINT-PAUL (LE MARAIS)</td>\n",
       "      <td>48.855236</td>\n",
       "      <td>2.360956</td>\n",
       "      <td>16</td>\n",
       "      <td>5</td>\n",
       "      <td>2</td>\n",
       "      <td>4</td>\n",
       "    </tr>\n",
       "  </tbody>\n",
       "</table>\n",
       "</div>"
      ],
      "text/plain": [
       "                      Station   Latitude  Longitude  Transport time  \\\n",
       "9   CHAMPS-ELYSEES-CLEMENCEAU  48.867905   2.313546               9   \n",
       "11                  TUILERIES  48.864344   2.330130              11   \n",
       "14                   CHATELET  48.858799   2.347306              14   \n",
       "15             HOTEL DE VILLE  48.857478   2.351578              15   \n",
       "16     SAINT-PAUL (LE MARAIS)  48.855236   2.360956              16   \n",
       "\n",
       "    Restaurant  Cinema  Cluster  \n",
       "9            9       1        4  \n",
       "11          16       0        4  \n",
       "14          10       1        4  \n",
       "15          12       2        4  \n",
       "16           5       2        4  "
      ]
     },
     "execution_count": 30,
     "metadata": {},
     "output_type": "execute_result"
    }
   ],
   "source": [
    "# Cluster 4: medium transport time, many restaurants, some cinemas\n",
    "res[res[\"Cluster\"]==4]"
   ]
  },
  {
   "cell_type": "code",
   "execution_count": 31,
   "metadata": {},
   "outputs": [
    {
     "data": {
      "text/html": [
       "<div>\n",
       "<style scoped>\n",
       "    .dataframe tbody tr th:only-of-type {\n",
       "        vertical-align: middle;\n",
       "    }\n",
       "\n",
       "    .dataframe tbody tr th {\n",
       "        vertical-align: top;\n",
       "    }\n",
       "\n",
       "    .dataframe thead th {\n",
       "        text-align: right;\n",
       "    }\n",
       "</style>\n",
       "<table border=\"1\" class=\"dataframe\">\n",
       "  <thead>\n",
       "    <tr style=\"text-align: right;\">\n",
       "      <th></th>\n",
       "      <th>Transport time</th>\n",
       "      <th>Venues</th>\n",
       "      <th>Restaurant</th>\n",
       "      <th>Cinema</th>\n",
       "      <th>Ratio</th>\n",
       "    </tr>\n",
       "    <tr>\n",
       "      <th>Cluster</th>\n",
       "      <th></th>\n",
       "      <th></th>\n",
       "      <th></th>\n",
       "      <th></th>\n",
       "      <th></th>\n",
       "    </tr>\n",
       "  </thead>\n",
       "  <tbody>\n",
       "    <tr>\n",
       "      <th>0</th>\n",
       "      <td>18.0</td>\n",
       "      <td>7.0</td>\n",
       "      <td>7.0</td>\n",
       "      <td>0.0</td>\n",
       "      <td>0.388889</td>\n",
       "    </tr>\n",
       "    <tr>\n",
       "      <th>1</th>\n",
       "      <td>3.0</td>\n",
       "      <td>5.0</td>\n",
       "      <td>5.0</td>\n",
       "      <td>0.0</td>\n",
       "      <td>1.666667</td>\n",
       "    </tr>\n",
       "    <tr>\n",
       "      <th>2</th>\n",
       "      <td>22.0</td>\n",
       "      <td>0.5</td>\n",
       "      <td>0.5</td>\n",
       "      <td>0.0</td>\n",
       "      <td>0.022727</td>\n",
       "    </tr>\n",
       "    <tr>\n",
       "      <th>3</th>\n",
       "      <td>7.5</td>\n",
       "      <td>17.0</td>\n",
       "      <td>13.0</td>\n",
       "      <td>3.5</td>\n",
       "      <td>2.266667</td>\n",
       "    </tr>\n",
       "    <tr>\n",
       "      <th>4</th>\n",
       "      <td>14.0</td>\n",
       "      <td>11.0</td>\n",
       "      <td>10.0</td>\n",
       "      <td>1.0</td>\n",
       "      <td>0.785714</td>\n",
       "    </tr>\n",
       "  </tbody>\n",
       "</table>\n",
       "</div>"
      ],
      "text/plain": [
       "         Transport time  Venues  Restaurant  Cinema     Ratio\n",
       "Cluster                                                      \n",
       "0                  18.0     7.0         7.0     0.0  0.388889\n",
       "1                   3.0     5.0         5.0     0.0  1.666667\n",
       "2                  22.0     0.5         0.5     0.0  0.022727\n",
       "3                   7.5    17.0        13.0     3.5  2.266667\n",
       "4                  14.0    11.0        10.0     1.0  0.785714"
      ]
     },
     "execution_count": 31,
     "metadata": {},
     "output_type": "execute_result"
    }
   ],
   "source": [
    "# Overview: median of categories for each cluster and ratio=nb of venues/transport time\n",
    "res[\"Venues\"]=res[\"Restaurant\"]+res[\"Cinema\"]\n",
    "synt=res[[\"Cluster\",\"Transport time\", \"Venues\", \"Restaurant\", \"Cinema\"]]\n",
    "synt=synt.groupby(\"Cluster\").median()\n",
    "synt[\"Ratio\"]=synt[\"Venues\"]/synt[\"Transport time\"]\n",
    "synt"
   ]
  },
  {
   "cell_type": "code",
   "execution_count": 32,
   "metadata": {},
   "outputs": [
    {
     "data": {
      "text/plain": [
       "Text(4.4, 18, 'High')"
      ]
     },
     "execution_count": 32,
     "metadata": {},
     "output_type": "execute_result"
    },
    {
     "data": {
      "image/png": "[encoded data removed]",
      "text/plain": [
       "<Figure size 720x360 with 2 Axes>"
      ]
     },
     "metadata": {
      "needs_background": "light"
     },
     "output_type": "display_data"
    }
   ],
   "source": [
    "# We build a bar plot to visualize the differences and relative proportions of the 5 clusters.\n",
    "fig, ax = plt.subplots(figsize=(10,5))\n",
    "width=1\n",
    "x=np.arange(5)\n",
    "ax1=ax.bar(x-width/6,synt[\"Transport time\"],width/3, color=\"orange\",label=\"Transport time\")\n",
    "ax2=ax.bar(x+width/6,synt[\"Restaurant\"],width/3,color=\"teal\",label=\"Restaurant\")\n",
    "ax3=ax.bar(x+width/6, synt[\"Cinema\"], width/3, bottom=synt[\"Restaurant\"],color=\"lightseagreen\",label=\"Cinema\")\n",
    "ax.set_title(\"Metro stations' clustering\", fontsize=16)\n",
    "ax.legend(fontsize=14)\n",
    "\n",
    "xlabel=[\"Cluster {}\".format(i) for i in range(5)]\n",
    "ax.set_xticks(x)\n",
    "ax.set_xticklabels(xlabel, fontsize=14)\n",
    "\n",
    "ax.set_ylabel(\"Number of venues\")\n",
    "ax1=ax.twinx()\n",
    "ax1.set_ylim(ax.get_ylim())\n",
    "ax1.set_ylabel(\"Transport time\")\n",
    "ax1.axhline(8, color='orange', linestyle='--', alpha=0.8)\n",
    "ax1.axhline(15, color=\"orange\", linestyle='--', alpha=0.8)\n",
    "\n",
    "for pos in [\"top\"]:\n",
    "    ax.spines[pos].set_visible(False)\n",
    "    ax1.spines[pos].set_visible(False)\n",
    "    \n",
    "plt.text(4.4, 5, \"Low\", style = 'italic', fontsize = 12, color=\"red\",rotation=0, ha =\"left\", va = \"center\")\n",
    "plt.text(4.4, 11.7, \"Med\", style = 'italic', fontsize = 12, color=\"red\",rotation=0, ha =\"left\", va = \"center\")\n",
    "plt.text(4.4, 18, \"High\", style = 'italic', fontsize = 12, color=\"red\",rotation=0, ha =\"left\", va = \"center\")"
   ]
  },
  {
   "cell_type": "markdown",
   "metadata": {},
   "source": [
    "We can resume the attributes of the clusters in the table below:"
   ]
  },
  {
   "cell_type": "markdown",
   "metadata": {},
   "source": [
    "Cluster|Transport time|Venues\n",
    ":-----:|:------------:|:----:\n",
    "0|high|medium\n",
    "1|low|medium\n",
    "2|high|very few\n",
    "3|low|high\n",
    "4|medium|high"
   ]
  },
  {
   "cell_type": "markdown",
   "metadata": {},
   "source": [
    "### Visualization: map of clustered stations"
   ]
  },
  {
   "cell_type": "code",
   "execution_count": 36,
   "metadata": {},
   "outputs": [
    {
     "name": "stdout",
     "output_type": "stream",
     "text": [
      "{0: 'darkcyan', 1: 'purple', 2: 'navy', 3: 'orangered', 4: 'green'}\n"
     ]
    }
   ],
   "source": [
    "# We match each cluster with a color.\n",
    "cluster_list=list(range(5))\n",
    "color_list=[\"darkcyan\",\"purple\",\"navy\",\"orangered\",\"green\"]\n",
    "colors={key: col for key, col in zip(cluster_list,color_list)}\n",
    "print(colors)"
   ]
  },
  {
   "cell_type": "code",
   "execution_count": 37,
   "metadata": {},
   "outputs": [],
   "source": [
    "from folium.features import DivIcon"
   ]
  },
  {
   "cell_type": "code",
   "execution_count": 38,
   "metadata": {},
   "outputs": [
    {
     "data": {
      "text/html": [
       "<div style=\"width:100%;\"><div style=\"position:relative;width:100%;height:0;padding-bottom:60%;\"><iframe src=\"data:text/html;charset=utf-8;base64,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\" style=\"position:absolute;width:100%;height:100%;left:0;top:0;border:none !important;\" allowfullscreen webkitallowfullscreen mozallowfullscreen></iframe></div></div>"
      ],
      "text/plain": [
       "<folium.folium.Map at 0x20c624ce518>"
      ]
     },
     "execution_count": 38,
     "metadata": {},
     "output_type": "execute_result"
    }
   ],
   "source": [
    "# We create a map of Paris using latitude and longitude values and we represent each cluster with the corresponding color.\n",
    "map_paris = folium.Map(location=[latitude, longitude], zoom_start=12)\n",
    "\n",
    "for lat, lng, name, clust, rest, cin in zip(res[\"Latitude\"], res[\"Longitude\"], res[\"Station\"], res[\"Cluster\"],\n",
    "                                            res[\"Restaurant\"],res[\"Cinema\"]):\n",
    "    label = \"{} : cluster {}\".format(name, clust)\n",
    "    label = folium.Popup(label, parse_html=True)\n",
    "    col=colors[clust]\n",
    "    folium.CircleMarker(\n",
    "       [lat, lng],\n",
    "       radius=(rest+cin)*0.6+2,\n",
    "       legend_name=\"CLusters\",\n",
    "       popup=label,\n",
    "       fill=True,\n",
    "       color=col,\n",
    "       fill_color=col,\n",
    "       fill_opacity=0.7,\n",
    "       parse_html=False).add_to(map_paris)  \n",
    "\n",
    "folium.Circle(\n",
    "    radius=500,\n",
    "    location=[48.892187,2.237018],\n",
    "    color=\"red\",\n",
    "    fill=False).add_to(map_paris)\n",
    "\n",
    "folium.Marker([48.886,2.194], icon=DivIcon(\n",
    "        icon_size=(150,50),\n",
    "        icon_anchor=(7,20),\n",
    "        html='<div style=\"font-size: 14pt; color : red\">LA DEFENSE</div>')).add_to(map_paris)\n",
    "\n",
    "map_paris"
   ]
  },
  {
   "cell_type": "code",
   "execution_count": null,
   "metadata": {},
   "outputs": [],
   "source": []
  },
  {
   "cell_type": "code",
   "execution_count": null,
   "metadata": {},
   "outputs": [],
   "source": [
    "\n"
   ]
  },
  {
   "cell_type": "code",
   "execution_count": null,
   "metadata": {},
   "outputs": [],
   "source": []
  },
  {
   "cell_type": "code",
   "execution_count": null,
   "metadata": {},
   "outputs": [],
   "source": []
  },
  {
   "cell_type": "code",
   "execution_count": null,
   "metadata": {},
   "outputs": [],
   "source": []
  },
  {
   "cell_type": "code",
   "execution_count": null,
   "metadata": {},
   "outputs": [],
   "source": []
  },
  {
   "cell_type": "code",
   "execution_count": null,
   "metadata": {},
   "outputs": [],
   "source": []
  },
  {
   "cell_type": "code",
   "execution_count": null,
   "metadata": {},
   "outputs": [],
   "source": []
  },
  {
   "cell_type": "code",
   "execution_count": null,
   "metadata": {},
   "outputs": [],
   "source": []
  },
  {
   "cell_type": "code",
   "execution_count": null,
   "metadata": {},
   "outputs": [],
   "source": []
  },
  {
   "cell_type": "code",
   "execution_count": null,
   "metadata": {},
   "outputs": [],
   "source": []
  },
  {
   "cell_type": "code",
   "execution_count": null,
   "metadata": {},
   "outputs": [],
   "source": []
  },
  {
   "cell_type": "code",
   "execution_count": null,
   "metadata": {},
   "outputs": [],
   "source": []
  }
 ],
 "metadata": {
  "kernelspec": {
   "display_name": "Python 3",
   "language": "python",
   "name": "python3"
  },
  "language_info": {
   "codemirror_mode": {
    "name": "ipython",
    "version": 3
   },
   "file_extension": ".py",
   "mimetype": "text/x-python",
   "name": "python",
   "nbconvert_exporter": "python",
   "pygments_lexer": "ipython3",
   "version": "3.7.3"
  }
 },
 "nbformat": 4,
 "nbformat_minor": 2
}
